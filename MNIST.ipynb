{
 "cells": [
  {
   "cell_type": "markdown",
   "metadata": {},
   "source": [
    "# This notebook is used to diagnose a bug causing Gradient wrong in GPU mode"
   ]
  },
  {
   "cell_type": "code",
   "execution_count": 1,
   "metadata": {},
   "outputs": [
    {
     "name": "stdout",
     "output_type": "stream",
     "text": [
      "Necessities imported!\n"
     ]
    }
   ],
   "source": [
    "%matplotlib inline\n",
    "from matplotlib import pyplot\n",
    "import numpy as np\n",
    "import os\n",
    "import shutil\n",
    "import caffe2.python.predictor.predictor_exporter as pe\n",
    "\n",
    "from caffe2.python import core, model_helper, net_drawer, workspace, visualize, brew\n",
    "\n",
    "# If you would like to see some really detailed initializations,\n",
    "# you can change --caffe2_log_level=0 to --caffe2_log_level=-1\n",
    "core.GlobalInit(['caffe2', '--caffe2_log_level=0'])\n",
    "print(\"Necessities imported!\")"
   ]
  },
  {
   "cell_type": "markdown",
   "metadata": {},
   "source": [
    "## toggle following code block to switch between CPU and GPU mode"
   ]
  },
  {
   "cell_type": "code",
   "execution_count": null,
   "metadata": {},
   "outputs": [],
   "source": [
    "from caffe2.proto import caffe2_pb2\n",
    "\n",
    "if workspace.has_gpu_support:\n",
    "    device_opts = core.DeviceOption(caffe2_pb2.CUDA, workspace.GetDefaultGPUID())\n",
    "    print('Running in GPU mode on default device {}'.format(workspace.GetDefaultGPUID()))\n",
    "else:\n",
    "    device_opts = core.DeviceOption(caffe2_pb2.CPU, 0)\n",
    "    print('Running in CPU mode')"
   ]
  },
  {
   "cell_type": "code",
   "execution_count": 3,
   "metadata": {},
   "outputs": [
    {
     "name": "stdout",
     "output_type": "stream",
     "text": [
      "lmdb train db found!\n",
      "lmdb test db found!\n",
      "Looks like you ran this before, so we need to cleanup those old files...\n",
      "training data folder:/home/wangd/python/my_notebooks/tutorial_data/mnist\n",
      "workspace root folder:/home/wangd/python/my_notebooks/tutorial_files/tutorial_mnist\n"
     ]
    }
   ],
   "source": [
    "# This section preps your image and test set in a lmdb database\n",
    "def DownloadResource(url, path):\n",
    "    '''Downloads resources from s3 by url and unzips them to the provided path'''\n",
    "    import requests, zipfile, StringIO\n",
    "    print(\"Downloading... {} to {}\".format(url, path))\n",
    "    r = requests.get(url, stream=True)\n",
    "    z = zipfile.ZipFile(StringIO.StringIO(r.content))\n",
    "    z.extractall(path)\n",
    "    print(\"Completed download and extraction.\")\n",
    "    \n",
    "    \n",
    "current_folder = os.path.join(os.path.expanduser('~'), 'python', 'my_notebooks')\n",
    "data_folder = os.path.join(current_folder, 'tutorial_data', 'mnist')\n",
    "root_folder = os.path.join(current_folder, 'tutorial_files', 'tutorial_mnist')\n",
    "db_missing = False\n",
    "\n",
    "if not os.path.exists(data_folder):\n",
    "    os.makedirs(data_folder)   \n",
    "    print(\"Your data folder was not found!! This was generated: {}\".format(data_folder))\n",
    "\n",
    "# Look for existing database: lmdb\n",
    "if os.path.exists(os.path.join(data_folder,\"mnist-train-nchw-lmdb\")):\n",
    "    print(\"lmdb train db found!\")\n",
    "else:\n",
    "    db_missing = True\n",
    "    \n",
    "if os.path.exists(os.path.join(data_folder,\"mnist-test-nchw-lmdb\")):\n",
    "    print(\"lmdb test db found!\")\n",
    "else:\n",
    "    db_missing = True\n",
    "\n",
    "# attempt the download of the db if either was missing\n",
    "if db_missing:\n",
    "    print(\"one or both of the MNIST lmbd dbs not found!!\")\n",
    "    db_url = \"http://download.caffe2.ai/databases/mnist-lmdb.zip\"\n",
    "    try:\n",
    "        DownloadResource(db_url, data_folder)\n",
    "    except Exception as ex:\n",
    "        print(\"Failed to download dataset. Please download it manually from {}\".format(db_url))\n",
    "        print(\"Unzip it and place the two database folders here: {}\".format(data_folder))\n",
    "        raise ex\n",
    "\n",
    "if os.path.exists(root_folder):\n",
    "    print(\"Looks like you ran this before, so we need to cleanup those old files...\")\n",
    "    shutil.rmtree(root_folder)\n",
    "    \n",
    "os.makedirs(root_folder)\n",
    "workspace.ResetWorkspace(root_folder)\n",
    "\n",
    "print(\"training data folder:\" + data_folder)\n",
    "print(\"workspace root folder:\" + root_folder)"
   ]
  },
  {
   "cell_type": "code",
   "execution_count": 4,
   "metadata": {},
   "outputs": [],
   "source": [
    "def AddInput(model, batch_size, db, db_type):\n",
    "    # load the data\n",
    "    data_uint8, label = model.TensorProtosDBInput(\n",
    "        [], [\"data_uint8\", \"label\"], batch_size=batch_size,\n",
    "        db=db, db_type=db_type)\n",
    "    # cast the data to float\n",
    "    data = model.Cast(data_uint8, \"data\", to=core.DataType.FLOAT)\n",
    "    # scale data from [0,255] down to [0,1]\n",
    "    data = model.Scale(data, data, scale=float(1./256))\n",
    "    # don't need the gradient for the backward pass\n",
    "    data = model.StopGradient(data, data)\n",
    "    return data, label"
   ]
  },
  {
   "cell_type": "markdown",
   "metadata": {},
   "source": [
    "## The only difference between this model and tutorial MNIST model is Normalize"
   ]
  },
  {
   "cell_type": "code",
   "execution_count": 5,
   "metadata": {},
   "outputs": [],
   "source": [
    "def AddLeNetModel(model, data):\n",
    "    '''\n",
    "    This part is the standard LeNet model: from data to the softmax prediction.\n",
    "    \n",
    "    For each convolutional layer we specify dim_in - number of input channels\n",
    "    and dim_out - number or output channels. Also each Conv and MaxPool layer changes the\n",
    "    image size. For example, kernel of size 5 reduces each side of an image by 4.\n",
    "\n",
    "    While when we have kernel and stride sizes equal 2 in a MaxPool layer, it divides\n",
    "    each side in half.\n",
    "    '''\n",
    "    # Image size: 28 x 28 -> 24 x 24\n",
    "    conv1 = brew.conv(model, data, 'conv1', dim_in=1, dim_out=20, kernel=5)\n",
    "    norm1 = model.Normalize(conv1, 'norm1')\n",
    "    # Image size: 24 x 24 -> 12 x 12\n",
    "    pool1 = brew.max_pool(model, norm1, 'pool1', kernel=2, stride=2)\n",
    "    # Image size: 12 x 12 -> 8 x 8\n",
    "    conv2 = brew.conv(model, pool1, 'conv2', dim_in=20, dim_out=50, kernel=5)\n",
    "    norm2 = model.Normalize(conv2, 'norm2')\n",
    "    # Image size: 8 x 8 -> 4 x 4\n",
    "    pool2 = brew.max_pool(model, norm2, 'pool2', kernel=2, stride=2)\n",
    "    # 50 * 4 * 4 stands for dim_out from previous layer multiplied by the image size\n",
    "    fc3 = brew.fc(model, pool2, 'fc3', dim_in=50 * 4 * 4, dim_out=500)\n",
    "    fc3 = brew.relu(model, fc3, fc3)\n",
    "    pred = brew.fc(model, fc3, 'pred', 500, 10)\n",
    "    softmax = brew.softmax(model, pred, 'softmax')\n",
    "    return softmax"
   ]
  },
  {
   "cell_type": "code",
   "execution_count": 6,
   "metadata": {},
   "outputs": [],
   "source": [
    "def AddAccuracy(model, softmax, label):\n",
    "    \"\"\"Adds an accuracy op to the model\"\"\"\n",
    "    accuracy = brew.accuracy(model, [softmax, label], \"accuracy\")\n",
    "    return accuracy"
   ]
  },
  {
   "cell_type": "code",
   "execution_count": 7,
   "metadata": {},
   "outputs": [],
   "source": [
    "def AddTrainingOperators(model, softmax, label):\n",
    "    \"\"\"Adds training operators to the model.\"\"\"\n",
    "    xent = model.LabelCrossEntropy([softmax, label], 'xent')\n",
    "    # compute the expected loss\n",
    "    loss = model.AveragedLoss(xent, \"loss\")\n",
    "    # track the accuracy of the model\n",
    "    AddAccuracy(model, softmax, label)\n",
    "    # use the average loss we just computed to add gradient operators to the model\n",
    "    model.AddGradientOperators([loss])\n",
    "    # do a simple stochastic gradient descent\n",
    "    ITER = brew.iter(model, \"iter\")\n",
    "    # set the learning rate schedule\n",
    "    LR = model.LearningRate(\n",
    "        ITER, \"LR\", base_lr=-0.1, policy=\"step\", stepsize=1, gamma=0.999 )\n",
    "    # ONE is a constant value that is used in the gradient update. We only need\n",
    "    # to create it once, so it is explicitly placed in param_init_net.\n",
    "    ONE = model.param_init_net.ConstantFill([], \"ONE\", shape=[1], value=1.0)\n",
    "    # Now, for each parameter, we do the gradient updates.\n",
    "    for param in model.params:\n",
    "        # Note how we get the gradient of each parameter - ModelHelper keeps\n",
    "        # track of that.\n",
    "        param_grad = model.param_to_grad[param]\n",
    "        # The update is a simple weighted sum: param = param + param_grad * LR\n",
    "        model.WeightedSum([param, ONE, param_grad, LR], param)"
   ]
  },
  {
   "cell_type": "code",
   "execution_count": 8,
   "metadata": {},
   "outputs": [],
   "source": [
    "def AddBookkeepingOperators(model):\n",
    "    \"\"\"This adds a few bookkeeping operators that we can inspect later.\n",
    "    \n",
    "    These operators do not affect the training procedure: they only collect\n",
    "    statistics and prints them to file or to logs.\n",
    "    \"\"\"    \n",
    "    # Print basically prints out the content of the blob. to_file=1 routes the\n",
    "    # printed output to a file. The file is going to be stored under\n",
    "    #     root_folder/[blob name]\n",
    "    model.Print('accuracy', [], to_file=1)\n",
    "    model.Print('loss', [], to_file=1)\n",
    "    # Summarizes the parameters. Different from Print, Summarize gives some\n",
    "    # statistics of the parameter, such as mean, std, min and max.\n",
    "    for param in model.params:\n",
    "        model.Summarize(param, [], to_file=1)\n",
    "        model.Summarize(model.param_to_grad[param], [], to_file=1)\n",
    "    # Now, if we really want to be verbose, we can summarize EVERY blob\n",
    "    # that the model produces; it is probably not a good idea, because that\n",
    "    # is going to take time - summarization do not come for free. For this\n",
    "    # demo, we will only show how to summarize the parameters and their\n",
    "    # gradients."
   ]
  },
  {
   "cell_type": "code",
   "execution_count": 9,
   "metadata": {},
   "outputs": [
    {
     "name": "stderr",
     "output_type": "stream",
     "text": [
      "WARNING:root:You are creating an op that the ModelHelper does not recognize: Normalize.\n",
      "WARNING:root:You are creating an op that the ModelHelper does not recognize: Normalize.\n",
      "WARNING:root:You are creating an op that the ModelHelper does not recognize: Normalize.\n",
      "WARNING:root:You are creating an op that the ModelHelper does not recognize: Normalize.\n",
      "WARNING:root:You are creating an op that the ModelHelper does not recognize: Normalize.\n",
      "WARNING:root:You are creating an op that the ModelHelper does not recognize: Normalize.\n"
     ]
    }
   ],
   "source": [
    "arg_scope = {\"order\": \"NCHW\"}\n",
    "\n",
    "with core.DeviceScope(device_opts):\n",
    "    train_model = model_helper.ModelHelper(name=\"mnist_train\", arg_scope=arg_scope)\n",
    "    data, label = AddInput(\n",
    "        train_model, batch_size=64,\n",
    "        db=os.path.join(data_folder, 'mnist-train-nchw-lmdb'),\n",
    "        db_type='lmdb')\n",
    "    softmax = AddLeNetModel(train_model, data)\n",
    "    AddTrainingOperators(train_model, softmax, label)\n",
    "    AddBookkeepingOperators(train_model)\n",
    "\n",
    "    # Testing model. We will set the batch size to 100, so that the testing\n",
    "    # pass is 100 iterations (10,000 images in total).\n",
    "    # For the testing model, we need the data input part, the main LeNetModel\n",
    "    # part, and an accuracy part. Note that init_params is set False because\n",
    "    # we will be using the parameters obtained from the train model.\n",
    "    test_model = model_helper.ModelHelper(\n",
    "        name=\"mnist_test\", arg_scope=arg_scope, init_params=False)\n",
    "    data, label = AddInput(\n",
    "        test_model, batch_size=100,\n",
    "        db=os.path.join(data_folder, 'mnist-test-nchw-lmdb'),\n",
    "        db_type='lmdb')\n",
    "    softmax = AddLeNetModel(test_model, data)\n",
    "    AddAccuracy(test_model, softmax, label)\n",
    "\n",
    "    # Deployment model. We simply need the main LeNetModel part.\n",
    "    deploy_model = model_helper.ModelHelper(\n",
    "        name=\"mnist_deploy\", arg_scope=arg_scope, init_params=False)\n",
    "    AddLeNetModel(deploy_model, \"data\")\n",
    "    # You may wonder what happens with the param_init_net part of the deploy_model.\n",
    "    # No, we will not use them, since during deployment time we will not randomly\n",
    "    # initialize the parameters, but load the parameters from the db."
   ]
  },
  {
   "cell_type": "code",
   "execution_count": 10,
   "metadata": {},
   "outputs": [
    {
     "data": {
      "text/plain": [
       "<matplotlib.legend.Legend at 0x7f4ff8037c10>"
      ]
     },
     "execution_count": 10,
     "metadata": {},
     "output_type": "execute_result"
    },
    {
     "data": {
      "image/png": "[encoded data removed]",
      "text/plain": [
       "<matplotlib.figure.Figure at 0x7f5037fc8710>"
      ]
     },
     "metadata": {},
     "output_type": "display_data"
    }
   ],
   "source": [
    "# The parameter initialization network only needs to be run once.\n",
    "workspace.RunNetOnce(train_model.param_init_net)\n",
    "# creating the network\n",
    "workspace.CreateNet(train_model.net, overwrite=True)\n",
    "# set the number of iterations and track the accuracy & loss\n",
    "total_iters = 200\n",
    "accuracy = np.zeros(total_iters)\n",
    "loss = np.zeros(total_iters)\n",
    "# Now, we will manually run the network for 200 iterations. \n",
    "for i in range(total_iters):\n",
    "    workspace.RunNet(train_model.net)\n",
    "    accuracy[i] = workspace.FetchBlob('accuracy')\n",
    "    loss[i] = workspace.FetchBlob('loss')\n",
    "# After the execution is done, let's plot the values.\n",
    "pyplot.plot(loss, 'b')\n",
    "pyplot.plot(accuracy, 'r')\n",
    "pyplot.legend(('Loss', 'Accuracy'), loc='upper right')"
   ]
  },
  {
   "cell_type": "code",
   "execution_count": 11,
   "metadata": {},
   "outputs": [
    {
     "name": "stdout",
     "output_type": "stream",
     "text": [
      "test_accuracy: 0.935400\n"
     ]
    },
    {
     "data": {
      "image/png": "[encoded data removed]",
      "text/plain": [
       "<matplotlib.figure.Figure at 0x7f502a742e90>"
      ]
     },
     "metadata": {},
     "output_type": "display_data"
    }
   ],
   "source": [
    "# run a test pass on the test net\n",
    "workspace.RunNetOnce(test_model.param_init_net)\n",
    "workspace.CreateNet(test_model.net, overwrite=True)\n",
    "test_accuracy = np.zeros(100)\n",
    "for i in range(100):\n",
    "    workspace.RunNet(test_model.net.Proto().name)\n",
    "    test_accuracy[i] = workspace.FetchBlob('accuracy')\n",
    "# After the execution is done, let's plot the values.\n",
    "pyplot.plot(test_accuracy, 'r')\n",
    "pyplot.title('Acuracy over test batches.')\n",
    "print('test_accuracy: %f' % test_accuracy.mean())"
   ]
  }
 ],
 "metadata": {
  "kernelspec": {
   "display_name": "Python 2",
   "language": "python",
   "name": "python2"
  },
  "language_info": {
   "codemirror_mode": {
    "name": "ipython",
    "version": 2
   },
   "file_extension": ".py",
   "mimetype": "text/x-python",
   "name": "python",
   "nbconvert_exporter": "python",
   "pygments_lexer": "ipython2",
   "version": "2.7.12"
  }
 },
 "nbformat": 4,
 "nbformat_minor": 1
}
