{
 "cells": [
  {
   "cell_type": "code",
   "execution_count": 1,
   "metadata": {
    "scrolled": false
   },
   "outputs": [
    {
     "name": "stderr",
     "output_type": "stream",
     "text": [
      "WARNING:root:This caffe2 python run does not have GPU support. Will run in CPU only mode.\n",
      "WARNING:root:Debug message: No module named caffe2_pybind11_state_gpu\n"
     ]
    }
   ],
   "source": [
    "import numpy as np\n",
    "from caffe2.python import core, model_helper, workspace, utils\n",
    "from game import InitGame, AddGamePlay\n",
    "from modeling import AddConvModel\n",
    "mini_batch=3"
   ]
  },
  {
   "cell_type": "code",
   "execution_count": 2,
   "metadata": {},
   "outputs": [
    {
     "name": "stdout",
     "output_type": "stream",
     "text": [
      "Params loaded from /home/wangd/python/tutorial_data/go/param/RL-conv=13-k=192-iter=6\n"
     ]
    }
   ],
   "source": [
    "import caffe2.python.predictor.predictor_exporter as pe\n",
    "import os\n",
    "from caffe2.proto import caffe2_pb2\n",
    "\n",
    "# load the predict net\n",
    "LOAD_FOLDER = os.path.join(os.path.expanduser('~'), 'python', 'tutorial_data','go','param','RL-conv=13-k=192-iter=6')\n",
    "predict_net = pe.prepare_prediction_net(os.path.join(LOAD_FOLDER, \"policy_model.minidb\"), \"minidb\", device_option=core.DeviceOption(caffe2_pb2.CPU, 0)\n",
    ")\n",
    "print('Params loaded from {}'.format(LOAD_FOLDER))"
   ]
  },
  {
   "cell_type": "markdown",
   "metadata": {},
   "source": [
    "## Init first step"
   ]
  },
  {
   "cell_type": "code",
   "execution_count": 3,
   "metadata": {},
   "outputs": [
    {
     "name": "stderr",
     "output_type": "stream",
     "text": [
      "WARNING:root:You are creating an op that the ModelHelper does not recognize: PadImage.\n",
      "WARNING:root:You are creating an op that the ModelHelper does not recognize: PadImage.\n",
      "WARNING:root:You are creating an op that the ModelHelper does not recognize: PadImage.\n",
      "WARNING:root:You are creating an op that the ModelHelper does not recognize: PadImage.\n",
      "WARNING:root:You are creating an op that the ModelHelper does not recognize: PadImage.\n",
      "WARNING:root:You are creating an op that the ModelHelper does not recognize: PadImage.\n",
      "WARNING:root:You are creating an op that the ModelHelper does not recognize: PadImage.\n",
      "WARNING:root:You are creating an op that the ModelHelper does not recognize: PadImage.\n",
      "WARNING:root:You are creating an op that the ModelHelper does not recognize: PadImage.\n",
      "WARNING:root:You are creating an op that the ModelHelper does not recognize: PadImage.\n",
      "WARNING:root:You are creating an op that the ModelHelper does not recognize: PadImage.\n",
      "WARNING:root:You are creating an op that the ModelHelper does not recognize: PadImage.\n",
      "WARNING:root:You are creating an op that the ModelHelper does not recognize: GivenTensorIntFill.\n",
      "WARNING:root:You are creating an op that the ModelHelper does not recognize: TopK.\n",
      "WARNING:root:You are creating an op that the ModelHelper does not recognize: OneHot.\n",
      "WARNING:root:You are creating an op that the ModelHelper does not recognize: Reshape.\n",
      "WARNING:root:You are creating an op that the ModelHelper does not recognize: Split.\n",
      "WARNING:root:You are creating an op that the ModelHelper does not recognize: Sub.\n",
      "WARNING:root:You are creating an op that the ModelHelper does not recognize: Concat.\n"
     ]
    },
    {
     "name": "stdout",
     "output_type": "stream",
     "text": [
      "(4,2)\n",
      "(5,2)\n",
      "(4,4)\n"
     ]
    },
    {
     "data": {
      "text/plain": [
       "True"
      ]
     },
     "execution_count": 3,
     "metadata": {},
     "output_type": "execute_result"
    }
   ],
   "source": [
    "ZERO = np.zeros((mini_batch,1,19,19), dtype=np.float32)\n",
    "ONE = np.ones((mini_batch,1,19,19), dtype=np.float32)\n",
    "init_data = np.concatenate((ZERO,ZERO,ONE,ZERO,\n",
    "                            ZERO,ZERO,ZERO,ZERO,ZERO,ZERO,ZERO,ZERO,\n",
    "                            ZERO,ZERO,ZERO,ZERO,ZERO,ZERO,ZERO,ZERO,\n",
    "                            ZERO,ZERO,ZERO,ZERO,ZERO,ZERO,ZERO,ZERO,\n",
    "                            ZERO,ZERO,ZERO,ZERO,ZERO,ZERO,ZERO,ZERO,\n",
    "                            ZERO,ZERO,ZERO,ZERO,ZERO,ZERO,ZERO,ZERO,\n",
    "                            ZERO,ZERO,ZERO,ZERO), axis=1)\n",
    "workspace.FeedBlob(\"data\", init_data)\n",
    "\n",
    "model = model_helper.ModelHelper(name=\"model\", arg_scope={\"order\": \"NCHW\"}, init_params=False)\n",
    "AddConvModel(model, \"data\", dim_in=48)\n",
    "AddGamePlay(model, \"data\", \"predict\")\n",
    "\n",
    "workspace.RunNetOnce(model.param_init_net)\n",
    "workspace.CreateNet(model.net, overwrite=True)\n",
    "workspace.RunNet(model.net)\n",
    "\n",
    "init_move = np.reshape(workspace.FetchBlob('predict')[0], (-1)) # shape=(361,)\n",
    "top_choice = np.argsort(-init_move)[0:mini_batch] # the top K step\n",
    "\n",
    "for i in range(mini_batch):\n",
    "    x = top_choice[i]/19\n",
    "    y = top_choice[i]%19\n",
    "    print('({},{})'.format(x,y))\n",
    "    init_data[i,1,x,y] = 1 # opponent plus (x,y)\n",
    "    init_data[i,2,x,y] = 0 # empty minus (x,y)\n",
    "    init_data[i,4,x,y] = 1 # last 1 step plus (x,y)\n",
    "    #init_data[i,12] = -1\n",
    "\n",
    "workspace.FeedBlob(\"data\", init_data)"
   ]
  },
  {
   "cell_type": "code",
   "execution_count": 4,
   "metadata": {},
   "outputs": [
    {
     "name": "stdout",
     "output_type": "stream",
     "text": [
      "[(1, 4), (1, 4), (16, 16)]\n",
      "[(6, 2), (7, 2), (3, 5)]\n",
      "[(2, 3), (2, 3), (4, 12)]\n",
      "[(16, 16), (4, 1), (2, 2)]\n",
      "[(3, 8), (2, 7), (16, 14)]\n",
      "[(2, 16), (2, 16), (2, 16)]\n",
      "[(5, 16), (4, 16), (4, 10)]\n",
      "[(1, 14), (5, 15), (4, 2)]\n",
      "[(2, 7), (4, 15), (1, 9)]\n",
      "[(1, 11), (1, 14), (4, 16)]\n",
      "[(4, 4), (7, 15), (1, 6)]\n",
      "[(4, 15), (1, 11), (1, 14)]\n",
      "[(5, 3), (2, 2), (1, 4)]\n",
      "[(1, 9), (1, 8), (6, 4)]\n",
      "[(5, 2), (5, 16), (2, 8)]\n",
      "[(5, 1), (1, 6), (6, 16)]\n",
      "[(4, 17), (4, 3), (1, 3)]\n",
      "[(1, 8), (2, 10), (2, 13)]\n",
      "[(2, 17), (6, 3), (9, 16)]\n",
      "[(1, 7), (5, 14), (1, 11)]\n"
     ]
    }
   ],
   "source": [
    "for i in range(20):\n",
    "    workspace.RunNet(model.net)\n",
    "    label=workspace.FetchBlob(\"label\")\n",
    "    label = [ (i/19,i%19) for i in label]\n",
    "    print(label)"
   ]
  },
  {
   "cell_type": "code",
   "execution_count": 5,
   "metadata": {
    "scrolled": false
   },
   "outputs": [
    {
     "data": {
      "text/plain": [
       "array([[1, 1, 1, 1, 1, 1, 1, 1, 1, 1, 1, 1, 1, 1, 1, 1, 1, 1, 1],\n",
       "       [1, 1, 1, 0, 0, 1, 0, 1, 1, 0, 1, 0, 1, 1, 0, 1, 1, 1, 1],\n",
       "       [1, 1, 0, 1, 1, 1, 1, 1, 0, 1, 1, 1, 1, 0, 1, 1, 0, 1, 1],\n",
       "       [1, 1, 1, 1, 1, 0, 1, 1, 1, 1, 1, 1, 1, 1, 1, 1, 1, 1, 1],\n",
       "       [1, 1, 0, 1, 0, 1, 1, 1, 1, 1, 0, 1, 0, 1, 1, 1, 0, 1, 1],\n",
       "       [1, 1, 1, 1, 1, 1, 1, 1, 1, 1, 1, 1, 1, 1, 1, 1, 1, 1, 1],\n",
       "       [1, 1, 1, 1, 0, 1, 1, 1, 1, 1, 1, 1, 1, 1, 1, 1, 0, 1, 1],\n",
       "       [1, 1, 1, 1, 1, 1, 1, 1, 1, 1, 1, 1, 1, 1, 1, 1, 1, 1, 1],\n",
       "       [1, 1, 1, 1, 1, 1, 1, 1, 1, 1, 1, 1, 1, 1, 1, 1, 1, 1, 1],\n",
       "       [1, 1, 1, 1, 1, 1, 1, 1, 1, 1, 1, 1, 1, 1, 1, 1, 0, 1, 1],\n",
       "       [1, 1, 1, 1, 1, 1, 1, 1, 1, 1, 1, 1, 1, 1, 1, 1, 1, 1, 1],\n",
       "       [1, 1, 1, 1, 1, 1, 1, 1, 1, 1, 1, 1, 1, 1, 1, 1, 1, 1, 1],\n",
       "       [1, 1, 1, 1, 1, 1, 1, 1, 1, 1, 1, 1, 1, 1, 1, 1, 1, 1, 1],\n",
       "       [1, 1, 1, 1, 1, 1, 1, 1, 1, 1, 1, 1, 1, 1, 1, 1, 1, 1, 1],\n",
       "       [1, 1, 1, 1, 1, 1, 1, 1, 1, 1, 1, 1, 1, 1, 1, 1, 1, 1, 1],\n",
       "       [1, 1, 1, 1, 1, 1, 1, 1, 1, 1, 1, 1, 1, 1, 1, 1, 1, 1, 1],\n",
       "       [1, 1, 1, 1, 1, 1, 1, 1, 1, 1, 1, 1, 1, 1, 0, 1, 0, 1, 1],\n",
       "       [1, 1, 1, 1, 1, 1, 1, 1, 1, 1, 1, 1, 1, 1, 1, 1, 1, 1, 1],\n",
       "       [1, 1, 1, 1, 1, 1, 1, 1, 1, 1, 1, 1, 1, 1, 1, 1, 1, 1, 1]])"
      ]
     },
     "execution_count": 5,
     "metadata": {},
     "output_type": "execute_result"
    }
   ],
   "source": [
    "data = workspace.FetchBlob('data')\n",
    "np.array(data[2,2],dtype=int)"
   ]
  },
  {
   "cell_type": "code",
   "execution_count": null,
   "metadata": {
    "collapsed": true
   },
   "outputs": [],
   "source": []
  }
 ],
 "metadata": {
  "kernelspec": {
   "display_name": "Python 2",
   "language": "python",
   "name": "python2"
  },
  "language_info": {
   "codemirror_mode": {
    "name": "ipython",
    "version": 2
   },
   "file_extension": ".py",
   "mimetype": "text/x-python",
   "name": "python",
   "nbconvert_exporter": "python",
   "pygments_lexer": "ipython2",
   "version": "2.7.12"
  },
  "toc": {
   "colors": {
    "hover_highlight": "#DAA520",
    "navigate_num": "#000000",
    "navigate_text": "#333333",
    "running_highlight": "#FF0000",
    "selected_highlight": "#FFD700",
    "sidebar_border": "#EEEEEE",
    "wrapper_background": "#FFFFFF"
   },
   "moveMenuLeft": true,
   "nav_menu": {
    "height": "49px",
    "width": "252px"
   },
   "navigate_menu": true,
   "number_sections": true,
   "sideBar": true,
   "threshold": 4,
   "toc_cell": false,
   "toc_section_display": "block",
   "toc_window_display": false,
   "widenNotebook": false
  }
 },
 "nbformat": 4,
 "nbformat_minor": 1
}
