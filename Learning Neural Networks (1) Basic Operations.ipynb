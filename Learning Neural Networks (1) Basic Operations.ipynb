{
 "cells": [
  {
   "cell_type": "markdown",
   "metadata": {},
   "source": [
    "# Basic Operations of Neural Networks\n",
    "In this notebook, we will try on commonly used operations."
   ]
  },
  {
   "cell_type": "code",
   "execution_count": 1,
   "metadata": {},
   "outputs": [
    {
     "name": "stderr",
     "output_type": "stream",
     "text": [
      "WARNING:root:This caffe2 python run does not have GPU support. Will run in CPU only mode.\n",
      "WARNING:root:Debug message: No module named caffe2_pybind11_state_gpu\n"
     ]
    }
   ],
   "source": [
    "# We'll also import a few standard python libraries\n",
    "from matplotlib import pyplot\n",
    "import numpy as np\n",
    "import time\n",
    "\n",
    "# These are the droids you are looking for.\n",
    "from caffe2.python import core, workspace\n",
    "from caffe2.proto import caffe2_pb2\n",
    "\n",
    "# Let's show all plots inline.\n",
    "%matplotlib inline"
   ]
  },
  {
   "cell_type": "markdown",
   "metadata": {},
   "source": [
    "## Relu\n",
    "[relu](https://en.wikipedia.org/wiki/Rectifier_%28neural_networks%29) is the short name of REctified Linear Unit. It is defined as:\n",
    "$$ f(x)=max(0,x) $$\n",
    "A smooth approximation to relu is the analytic function\n",
    "$$ f(x)=ln(1+e^x) $$"
   ]
  },
  {
   "cell_type": "code",
   "execution_count": 2,
   "metadata": {},
   "outputs": [
    {
     "data": {
      "image/png": "[encoded data removed]",
      "text/plain": [
       "<matplotlib.figure.Figure at 0x7f7da114fb10>"
      ]
     },
     "metadata": {},
     "output_type": "display_data"
    }
   ],
   "source": [
    "workspace.FeedBlob(\"X\", np.sort(np.random.uniform(-10,10,100).astype(np.float32)))\n",
    "# Create an operator.\n",
    "op = core.CreateOperator(\n",
    "    \"Relu\", # The type of operator that we want to run\n",
    "    [\"X\"], # A list of input blobs by their names\n",
    "    [\"Y\"], # A list of output blobs by their names\n",
    ")\n",
    "workspace.RunOperatorOnce(op)\n",
    "# and we are done!\n",
    "pyplot.plot(workspace.FetchBlob(\"X\"),workspace.FetchBlob(\"Y\"))\n",
    "pyplot.title(\"ReLU function\");"
   ]
  },
  {
   "cell_type": "markdown",
   "metadata": {},
   "source": [
    "## Sigmoid\n",
    "[sigmoid](https://en.wikipedia.org/wiki/Sigmoid_function) is defined as:\n",
    "$$ f(x)=\\frac{1}{1+e^{-x}} $$"
   ]
  },
  {
   "cell_type": "code",
   "execution_count": 3,
   "metadata": {},
   "outputs": [
    {
     "data": {
      "image/png": "[encoded data removed]",
      "text/plain": [
       "<matplotlib.figure.Figure at 0x7f7da109efd0>"
      ]
     },
     "metadata": {},
     "output_type": "display_data"
    }
   ],
   "source": [
    "workspace.FeedBlob(\"X\", np.sort(np.random.uniform(-10,10,100).astype(np.float32)))\n",
    "# Create an operator.\n",
    "op = core.CreateOperator(\n",
    "    \"Sigmoid\", # The type of operator that we want to run\n",
    "    [\"X\"], # A list of input blobs by their names\n",
    "    [\"Y\"], # A list of output blobs by their names\n",
    ")\n",
    "workspace.RunOperatorOnce(op)\n",
    "# and we are done!\n",
    "pyplot.plot(workspace.FetchBlob(\"X\"),workspace.FetchBlob(\"Y\"))\n",
    "pyplot.title(\"Sigmoid function\");"
   ]
  },
  {
   "cell_type": "markdown",
   "metadata": {},
   "source": [
    "## Softmax\n",
    "[softmax](https://en.wikipedia.org/wiki/Softmax_function) is defined as\n",
    "$$ f(z_j) = \\frac{e^{z_j}}{\\sum\\limits^K_{k=1}e^{z_k}} $$\n",
    "Softmax operation normalize the input and the total of results is 1:\n",
    "$$ \\sum\\limits^K_{j=1}{f(z_j)} = \\frac{\\sum\\limits^K_{j=1}{e^{z_j}}}{{\\sum\\limits^K_{k=1}e^{z_k}}} = 1 $$\n",
    "The derivative of softwmax is:\n",
    "$$ \\frac{\\partial}{\\partial{q_k}}f(q,i)=f(q,i)(\\delta_{ik}-f(q,k)) $$"
   ]
  },
  {
   "cell_type": "code",
   "execution_count": 4,
   "metadata": {},
   "outputs": [
    {
     "data": {
      "image/png": "[encoded data removed]",
      "text/plain": [
       "<matplotlib.figure.Figure at 0x7f7da0f66050>"
      ]
     },
     "metadata": {},
     "output_type": "display_data"
    }
   ],
   "source": [
    "net = core.Net(\"my_softmax_net\")\n",
    "workspace.ResetWorkspace()\n",
    "net.GaussianFill([], [\"X\"], mean=0.0, std=1.0, shape=[1,5], run_once=0)\n",
    "\n",
    "net.Softmax([\"X\"], [\"Y\"])\n",
    "workspace.RunNetOnce(net)\n",
    "#for name in [\"X\",\"Y\"]:\n",
    "#    print(\"{}:\\n{}\".format(name, workspace.FetchBlob(name)))\n",
    "    \n",
    "pyplot.bar([1,2,3,4,5],workspace.FetchBlob(\"X\")[0])\n",
    "pyplot.bar([1,2,3,4,5],workspace.FetchBlob(\"Y\")[0])\n",
    "pyplot.title(\"Origins vs Softmaxed result \");"
   ]
  },
  {
   "cell_type": "markdown",
   "metadata": {},
   "source": [
    "## Fully Connected\n",
    "[FC](https://en.wikipedia.org/wiki/) is defined as:\n",
    "$$ f = X\\times{W^T} + b $$"
   ]
  },
  {
   "cell_type": "code",
   "execution_count": 5,
   "metadata": {},
   "outputs": [
    {
     "name": "stdout",
     "output_type": "stream",
     "text": [
      "X:\n",
      "[[ 0.66724014 -1.8964349  -0.47131905]\n",
      " [-0.16126639 -0.26135415 -2.27391434]]\n",
      "W:\n",
      "[[-0.27459237  0.48061958  1.17310417]\n",
      " [-0.80509013 -1.68721223 -0.26957217]\n",
      " [ 1.21115172 -0.90264088  0.33203143]\n",
      " [ 0.45797631 -1.5286119   2.12537003]\n",
      " [ 1.76408386  0.96122581  0.60869533]]\n",
      "Y:\n",
      "[[-1.64758921  2.78955412  2.36343598  2.2027657  -0.93272436]\n",
      " [-2.74886775  1.18377781 -0.71442014 -4.50725651 -1.91982889]]\n"
     ]
    }
   ],
   "source": [
    "net = core.Net(\"my_FC_net\")\n",
    "workspace.ResetWorkspace()\n",
    "net.GaussianFill([], [\"X\"], mean=0.0, std=1.0, shape=[2, 3], run_once=0)\n",
    "net.GaussianFill([], [\"W\"], mean=0.0, std=1.0, shape=[5, 3], run_once=0)\n",
    "net.ConstantFill([], [\"b\"], shape=[5,], value=0.0, run_once=0)\n",
    "\n",
    "net.FC([\"X\", \"W\", \"b\"], [\"Y\"])\n",
    "workspace.RunNetOnce(net)\n",
    "\n",
    "for name in [\"X\",\"W\",\"Y\"]:\n",
    "    print(\"{}:\\n{}\".format(name, workspace.FetchBlob(name)))"
   ]
  },
  {
   "cell_type": "code",
   "execution_count": null,
   "metadata": {
    "collapsed": true
   },
   "outputs": [],
   "source": []
  }
 ],
 "metadata": {
  "kernelspec": {
   "display_name": "Python 2",
   "language": "python",
   "name": "python2"
  },
  "language_info": {
   "codemirror_mode": {
    "name": "ipython",
    "version": 2
   },
   "file_extension": ".py",
   "mimetype": "text/x-python",
   "name": "python",
   "nbconvert_exporter": "python",
   "pygments_lexer": "ipython2",
   "version": "2.7.12"
  },
  "toc": {
   "colors": {
    "hover_highlight": "#DAA520",
    "navigate_num": "#000000",
    "navigate_text": "#333333",
    "running_highlight": "#FF0000",
    "selected_highlight": "#FFD700",
    "sidebar_border": "#EEEEEE",
    "wrapper_background": "#FFFFFF"
   },
   "moveMenuLeft": true,
   "nav_menu": {
    "height": "105px",
    "width": "252px"
   },
   "navigate_menu": true,
   "number_sections": true,
   "sideBar": true,
   "threshold": 4,
   "toc_cell": false,
   "toc_position": {
    "height": "511px",
    "left": "0px",
    "right": "auto",
    "top": "107px",
    "width": "212px"
   },
   "toc_section_display": "block",
   "toc_window_display": true,
   "widenNotebook": false
  }
 },
 "nbformat": 4,
 "nbformat_minor": 2
}
