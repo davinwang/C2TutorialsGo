{
 "cells": [
  {
   "cell_type": "markdown",
   "metadata": {},
   "source": [
    "# Prepare Dataset\n",
    "\n",
    "The problem we are dealing with, two-dimensional input `(longitude, latitude)` and one-dimensional output `height`. The ground truth is given by NCDC world wide weather station information.\n"
   ]
  },
  {
   "cell_type": "code",
   "execution_count": 1,
   "metadata": {
    "collapsed": true
   },
   "outputs": [],
   "source": [
    "%matplotlib inline\n",
    "import numpy as np\n",
    "from matplotlib import pyplot"
   ]
  },
  {
   "cell_type": "markdown",
   "metadata": {},
   "source": [
    "## Loading Data\n",
    "\n",
    "First, we load data from external data source file and prepare features `(longitude, latitude)` and labels `(elevate)`. Separate the data into training data and test data by using `mod`."
   ]
  },
  {
   "cell_type": "code",
   "execution_count": 2,
   "metadata": {
    "collapsed": true
   },
   "outputs": [],
   "source": [
    "import os, datetime\n",
    "from StringIO import StringIO\n",
    "\n",
    "current_folder = os.path.join(os.path.expanduser('~'), 'python')\n",
    "file_folder = os.path.join(current_folder, 'tutorial_files','weather')\n",
    "data_folder = os.path.join(current_folder, 'tutorial_data', 'weather')\n",
    "\n",
    "if not os.path.exists(data_folder):\n",
    "\n",
    "    raw_data = open(os.path.join(file_folder,'Station.txt'), 'r').read()\n",
    "    #print('Raw data looks like this:')\n",
    "    #print(raw_data[966:1300] + '...')\n",
    "\n",
    "    stations = np.genfromtxt(\\\n",
    "        StringIO(raw_data),\\\n",
    "        delimiter=(7,6,30,3,3,3,6,7,8,10,9,9),# width of each field \\\n",
    "        skip_header=22, # skip 22 lines of header \\\n",
    "        usecols=(8, 7, 9), # reorder colums from (latitude, longitude, elevate) to (longitude, latitude, elevate) \\\n",
    "        missing_values=\"-99999,-999999\", # missing_values will be replaced by numpy.nan \\\n",
    "        dtype=[('longitude','f8'),('latitude','f8'),('elevate','f8')], # \\\n",
    "        usemask=True) # required by using missing_values\n",
    "\n",
    "    # Convert masked array to numpy arrary and normalize (longitude, latitude, elevate)\n",
    "    data_set = np.array([\n",
    "        [stations[i][0]/1000/180, stations[i][1]/1000/90, stations[i][2]/10/10000]\n",
    "        for i in range(len(stations)) if stations[i][0] and stations[i][1] and stations[i][2]\n",
    "    ], np.float32)\n",
    "    \n",
    "    # Shuffle the data set\n",
    "    random_index = np.random.permutation(len(data_set))\n",
    "    #data_set = data_set[random_index]\n",
    "    \n",
    "    # Truncate the dataset by MOD 100\n",
    "    data_set = data_set[:(len(data_set) - len(data_set)%100)]\n",
    "    \n",
    "    # Split the dataset into features and labels\n",
    "    features = np.array([\n",
    "        [t[0] for t in data_set],\n",
    "        [t[1] for t in data_set]\n",
    "    ], dtype=np.float32)\n",
    "    labels = np.array([\n",
    "        [t[2]] for t in data_set \n",
    "    ], dtype=np.float32)\n",
    "    \n",
    "    #reshape the data set from (28300, 1) to (283, 1, 10, 10)\n",
    "    features = features.reshape(len(data_set)/100, 2, 10, 10)\n",
    "    labels = labels.reshape(len(data_set)/100, 100)\n",
    "\n",
    "    train_features = features[0:250]\n",
    "    train_labels = labels[0:250]\n",
    "    test_features = features[250:260]\n",
    "    test_labels = labels[250:260]"
   ]
  },
  {
   "cell_type": "markdown",
   "metadata": {},
   "source": [
    "## Write to MiniDB as Caffe2Tensor"
   ]
  },
  {
   "cell_type": "code",
   "execution_count": 3,
   "metadata": {},
   "outputs": [
    {
     "name": "stderr",
     "output_type": "stream",
     "text": [
      "WARNING:root:This caffe2 python run does not have GPU support. Will run in CPU only mode.\n",
      "WARNING:root:Debug message: No module named caffe2_pybind11_state_gpu\n"
     ]
    }
   ],
   "source": [
    "from caffe2.python import core, utils\n",
    "from caffe2.proto import caffe2_pb2\n",
    "import shutil\n",
    "\n",
    "# Now, actually write the db.\n",
    "def write_db(db_type, db_name, features, labels):\n",
    "    db = core.C.create_db(db_type, db_name, core.C.Mode.write)\n",
    "    transaction = db.new_transaction()\n",
    "    for i in range(features.shape[0]):\n",
    "        feature_and_label = caffe2_pb2.TensorProtos()\n",
    "        feature_and_label.protos.extend([\n",
    "            utils.NumpyArrayToCaffe2Tensor(features[i]),\n",
    "            utils.NumpyArrayToCaffe2Tensor(labels[i])])\n",
    "        transaction.put(\n",
    "            'train_{:0=5}'.format(i),\n",
    "            feature_and_label.SerializeToString())\n",
    "    # Close the transaction, and then close the db.\n",
    "    del transaction\n",
    "    del db\n",
    "\n",
    "if not os.path.exists(data_folder):\n",
    "    os.makedirs(data_folder)\n",
    "    write_db(\"minidb\", os.path.join(data_folder, 'weather-station-train-minidb'), train_features, train_labels)\n",
    "    write_db(\"minidb\", os.path.join(data_folder, 'weather-station-test-minidb'), test_features, test_labels)"
   ]
  },
  {
   "cell_type": "markdown",
   "metadata": {},
   "source": [
    "# Modeling"
   ]
  },
  {
   "cell_type": "markdown",
   "metadata": {},
   "source": [
    "## Declaring the computation graphs\n"
   ]
  },
  {
   "cell_type": "code",
   "execution_count": 4,
   "metadata": {
    "collapsed": true,
    "scrolled": true
   },
   "outputs": [],
   "source": [
    "from caffe2.python import workspace, brew, model_helper\n",
    "\n",
    "def AddInput(model, batch_size, db, db_type):\n",
    "    # load the data\n",
    "    data, label = model.TensorProtosDBInput(\n",
    "        [], [\"data\", \"label\"], batch_size=batch_size,\n",
    "        db=db, db_type=db_type)\n",
    "    return data, label\n",
    "\n",
    "def AddModel(model, data):\n",
    "    # Image size: 2 x 10 x 10 -> 20 x 8 x 8\n",
    "    conv1 = brew.conv(model, data, 'conv1', dim_in=2, dim_out=20, kernel=3)\n",
    "    # Image size: 20 x 8 x 8 -> 40 x 6 x 6\n",
    "    conv2 = brew.conv(model, conv1, 'conv2', dim_in=20, dim_out=40, kernel=3)\n",
    "    # Image size: 40 x 6 x 6 -> 100 x 4 x 4\n",
    "    conv3 = brew.conv(model, conv2, 'conv3', dim_in=40, dim_out=100, kernel=3)\n",
    "    # Image size: 50 x 6 x 6 -> 500 x ? x ?\n",
    "    fc1 = brew.fc(model, conv3, 'fc1', dim_in=100*4*4, dim_out=100)\n",
    "    #\n",
    "    predict = brew.softmax(model, fc1, 'predict')\n",
    "    return predict\n",
    "\n",
    "def AddAccuracy(model, predict, label):\n",
    "    dist = model.SquaredL2Distance([predict, label], \"dist\")\n",
    "    loss = model.AveragedLoss(dist, \"loss\")\n",
    "    return loss\n",
    "\n",
    "def AddTrainingOperators(model, predict, label):\n",
    "    # track the loss of the model\n",
    "    loss = AddAccuracy(model, predict, label)\n",
    "    # use the average loss we just computed to add gradient operators to the model\n",
    "    model.AddGradientOperators([loss])\n",
    "    # do a simple stochastic gradient descent\n",
    "    ITER = brew.iter(model, \"iter\")\n",
    "    # set the learning rate schedule\n",
    "    LR = model.LearningRate(\n",
    "        ITER, \"LR\", base_lr=-0.1, policy=\"step\", stepsize=1, gamma=0.999 )\n",
    "    # ONE is a constant value that is used in the gradient update. We only need\n",
    "    # to create it once, so it is explicitly placed in param_init_net.\n",
    "    ONE = model.param_init_net.ConstantFill([], \"ONE\", shape=[1], value=1.0)\n",
    "    # Now, for each parameter, we do the gradient updates.\n",
    "    for param in model.params:\n",
    "        # Note how we get the gradient of each parameter - CNNModelHelper keeps\n",
    "        # track of that.\n",
    "        param_grad = model.param_to_grad[param]\n",
    "        # The update is a simple weighted sum: param = param + param_grad * LR\n",
    "        model.WeightedSum([param, ONE, param_grad, LR], param)"
   ]
  },
  {
   "cell_type": "code",
   "execution_count": 5,
   "metadata": {},
   "outputs": [
    {
     "data": {
      "text/plain": [
       "True"
      ]
     },
     "execution_count": 5,
     "metadata": {},
     "output_type": "execute_result"
    }
   ],
   "source": [
    "arg_scope = {\"order\": \"NCHW\"}\n",
    "\n",
    "# Training model \n",
    "train_model = model_helper.ModelHelper(name=\"ws_train\", arg_scope=arg_scope)\n",
    "data, label = AddInput(\n",
    "    train_model, batch_size=250,\n",
    "    db=os.path.join(data_folder, 'weather-station-train-minidb'),\n",
    "    db_type='minidb')\n",
    "predict = AddModel(train_model, data)\n",
    "AddTrainingOperators(train_model, predict, label)\n",
    "# initialize the train model\n",
    "workspace.RunNetOnce(train_model.param_init_net)\n",
    "# creating the train network\n",
    "workspace.CreateNet(train_model.net, overwrite=True)"
   ]
  },
  {
   "cell_type": "code",
   "execution_count": 6,
   "metadata": {},
   "outputs": [
    {
     "data": {
      "text/plain": [
       "True"
      ]
     },
     "execution_count": 6,
     "metadata": {},
     "output_type": "execute_result"
    }
   ],
   "source": [
    "# Testing model \n",
    "test_model = model_helper.ModelHelper(name=\"ws_test\", arg_scope=arg_scope, init_params=False)\n",
    "data, label = AddInput(\n",
    "    test_model, batch_size=1,\n",
    "    db=os.path.join(data_folder, 'weather-station-test-minidb'),\n",
    "    db_type='minidb')\n",
    "_predict = AddModel(test_model, data)\n",
    "predict = AddAccuracy(test_model, _predict, label)\n",
    "# initialize the test model\n",
    "workspace.RunNetOnce(test_model.param_init_net)\n",
    "# creating the test network\n",
    "workspace.CreateNet(test_model.net, overwrite=True)"
   ]
  },
  {
   "cell_type": "code",
   "execution_count": 7,
   "metadata": {},
   "outputs": [
    {
     "data": {
      "text/plain": [
       "True"
      ]
     },
     "execution_count": 7,
     "metadata": {},
     "output_type": "execute_result"
    }
   ],
   "source": [
    "# Deploy model\n",
    "deploy_model = model_helper.ModelHelper(name=\"ws_deploy\", arg_scope=arg_scope, init_params=False)\n",
    "_predict = AddModel(test_model, data)\n",
    "# initialize the deploy model\n",
    "workspace.RunNetOnce(test_model.param_init_net)\n",
    "# creating the deploy network\n",
    "workspace.CreateNet(test_model.net, overwrite=True)"
   ]
  },
  {
   "cell_type": "markdown",
   "metadata": {},
   "source": [
    "# Training"
   ]
  },
  {
   "cell_type": "code",
   "execution_count": 15,
   "metadata": {},
   "outputs": [
    {
     "data": {
      "text/plain": [
       "<matplotlib.text.Text at 0x7f0ba0dc9e50>"
      ]
     },
     "execution_count": 15,
     "metadata": {},
     "output_type": "execute_result"
    },
    {
     "data": {
      "image/png": "[encoded data removed]",
      "text/plain": [
       "<matplotlib.figure.Figure at 0x7f0ba0e07310>"
      ]
     },
     "metadata": {},
     "output_type": "display_data"
    }
   ],
   "source": [
    "# set the number of iterations and track the accuracy & loss\n",
    "total_iters = 1000\n",
    "#accuracy = np.zeros(total_iters)\n",
    "loss = np.zeros(total_iters)\n",
    "# Now, we will run the training network \n",
    "for i in range(total_iters):\n",
    "    workspace.RunNet(train_model.net)\n",
    "    #accuracy[i] = workspace.FetchBlob('accuracy')\n",
    "    loss[i] = workspace.FetchBlob('loss')\n",
    "pyplot.plot(loss, 'r')\n",
    "pyplot.title('Loss over training batches.')"
   ]
  },
  {
   "cell_type": "markdown",
   "metadata": {
    "collapsed": true
   },
   "source": [
    "# Testing"
   ]
  },
  {
   "cell_type": "code",
   "execution_count": 12,
   "metadata": {
    "scrolled": true
   },
   "outputs": [
    {
     "data": {
      "text/plain": [
       "0.035180556587874889"
      ]
     },
     "execution_count": 12,
     "metadata": {},
     "output_type": "execute_result"
    },
    {
     "data": {
      "image/png": "[encoded data removed]",
      "text/plain": [
       "<matplotlib.figure.Figure at 0x7f0bc40c4d10>"
      ]
     },
     "metadata": {},
     "output_type": "display_data"
    }
   ],
   "source": [
    "# set the number of iterations and track the accuracy & loss\n",
    "total_iters = 10\n",
    "#test_accuracy = np.zeros(total_iters)\n",
    "test_loss = np.zeros(total_iters)\n",
    "# Now, we will run the test network \n",
    "for i in range(total_iters):\n",
    "    workspace.RunNet(test_model.net)\n",
    "    #accuracy[i] = workspace.FetchBlob('accuracy')\n",
    "    test_loss[i] = workspace.FetchBlob('loss')\n",
    "    \n",
    "pyplot.plot(test_loss, 'r')\n",
    "pyplot.title('Loss over test batches.')\n",
    "test_loss.mean()"
   ]
  },
  {
   "cell_type": "code",
   "execution_count": 16,
   "metadata": {},
   "outputs": [
    {
     "data": {
      "text/plain": [
       "array([ 0.00900407,  0.01044764,  0.00955431,  0.01038362,  0.01017025,\n",
       "        0.01002423,  0.01016967,  0.01003155,  0.0105635 ,  0.01041587], dtype=float32)"
      ]
     },
     "execution_count": 16,
     "metadata": {},
     "output_type": "execute_result"
    }
   ],
   "source": [
    "workspace.FetchBlob(\"predict\")[0,10:20]"
   ]
  },
  {
   "cell_type": "code",
   "execution_count": 17,
   "metadata": {},
   "outputs": [
    {
     "data": {
      "text/plain": [
       "array([ 0.0014,  0.0008,  0.0029,  0.0005,  0.0013,  0.001 ,  0.0009,\n",
       "        0.0014,  0.002 ,  0.0006], dtype=float32)"
      ]
     },
     "execution_count": 17,
     "metadata": {},
     "output_type": "execute_result"
    }
   ],
   "source": [
    "workspace.FetchBlob(\"label\")[0,10:20]"
   ]
  },
  {
   "cell_type": "code",
   "execution_count": null,
   "metadata": {
    "collapsed": true
   },
   "outputs": [],
   "source": []
  },
  {
   "cell_type": "code",
   "execution_count": null,
   "metadata": {
    "collapsed": true
   },
   "outputs": [],
   "source": []
  },
  {
   "cell_type": "code",
   "execution_count": null,
   "metadata": {
    "collapsed": true
   },
   "outputs": [],
   "source": []
  }
 ],
 "metadata": {
  "kernelspec": {
   "display_name": "Python 2",
   "language": "python",
   "name": "python2"
  },
  "language_info": {
   "codemirror_mode": {
    "name": "ipython",
    "version": 2
   },
   "file_extension": ".py",
   "mimetype": "text/x-python",
   "name": "python",
   "nbconvert_exporter": "python",
   "pygments_lexer": "ipython2",
   "version": "2.7.12"
  },
  "toc": {
   "colors": {
    "hover_highlight": "#DAA520",
    "navigate_num": "#000000",
    "navigate_text": "#333333",
    "running_highlight": "#FF0000",
    "selected_highlight": "#FFD700",
    "sidebar_border": "#EEEEEE",
    "wrapper_background": "#FFFFFF"
   },
   "moveMenuLeft": true,
   "nav_menu": {
    "height": "49px",
    "width": "252px"
   },
   "navigate_menu": true,
   "number_sections": true,
   "sideBar": true,
   "threshold": 4,
   "toc_cell": false,
   "toc_section_display": "block",
   "toc_window_display": false,
   "widenNotebook": false
  }
 },
 "nbformat": 4,
 "nbformat_minor": 1
}
