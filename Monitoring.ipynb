{
 "cells": [
  {
   "cell_type": "markdown",
   "metadata": {},
   "source": [
    "# Monitoring Caffe2 Learning Status\n",
    "    This notebook will help you monitoring Caffe2 learning status."
   ]
  },
  {
   "cell_type": "code",
   "execution_count": null,
   "metadata": {
    "collapsed": true
   },
   "outputs": [],
   "source": [
    "from matplotlib import pyplot\n",
    "import numpy as np\n",
    "import os\n",
    "from StringIO import StringIO\n",
    "\n",
    "# Let's show all plots inline.\n",
    "%matplotlib inline\n",
    "\n",
    "BASE_FOLDER = os.path.join(os.path.expanduser('~'), 'python', 'tutorial_data', 'go', 'param')"
   ]
  },
  {
   "cell_type": "markdown",
   "metadata": {},
   "source": [
    "\n",
    "## Loss\n",
    "    This program will first load Loss from log file and then plot them."
   ]
  },
  {
   "cell_type": "code",
   "execution_count": null,
   "metadata": {
    "scrolled": false
   },
   "outputs": [],
   "source": [
    "loss_t = open(os.path.join(BASE_FOLDER, 'loss.log'), 'r').read()\n",
    "\n",
    "loss = np.genfromtxt(StringIO(loss_t), usecols=(7))\n",
    "\n",
    "weight = np.ones(100)/100\n",
    "sma = np.convolve(weight, loss)[100:-100]\n",
    "\n",
    "pyplot.plot(loss, 'b')\n",
    "pyplot.plot(sma, 'g')\n",
    "pyplot.legend(('Loss', 'SMA'), loc='upper right')\n",
    "\n",
    "nighty = len(loss)*9/10 # monitor the trend: last 10% of the data\n",
    "loss[nighty:].mean()"
   ]
  },
  {
   "cell_type": "markdown",
   "metadata": {},
   "source": [
    "## Training Accuracy\n",
    "    This program will first load Accuracy from log file, and then plot them."
   ]
  },
  {
   "cell_type": "code",
   "execution_count": null,
   "metadata": {
    "scrolled": false
   },
   "outputs": [],
   "source": [
    "accuracy_t = open(os.path.join(BASE_FOLDER, 'accuracy.log'), 'r').read()\n",
    "#loss_t = open(os.path.join(BASE_FOLDER, 'param', 'loss.log'), 'r').read()\n",
    "\n",
    "accuracy = np.genfromtxt(StringIO(accuracy_t), usecols=(7))\n",
    "#loss = np.genfromtxt(StringIO(loss_t), usecols=(7))\n",
    "\n",
    "weight = np.ones(100)/100\n",
    "\n",
    "sma = np.convolve(weight, accuracy)[100:-100]\n",
    "\n",
    "#pyplot.plot(loss, 'b')\n",
    "pyplot.plot(accuracy, 'red')\n",
    "pyplot.plot(sma, 'g')\n",
    "pyplot.legend(('Accuracy', 'SMA'), loc='upper right')\n",
    "\n",
    "nighty = len(accuracy)*9/10 # monitor the trend: last 10% of the data\n",
    "accuracy[nighty:].mean()"
   ]
  },
  {
   "cell_type": "markdown",
   "metadata": {},
   "source": [
    "# Monitoring Hardware\n",
    "## CPU and Memory\n",
    "    This program will display top processes"
   ]
  },
  {
   "cell_type": "code",
   "execution_count": null,
   "metadata": {
    "scrolled": true
   },
   "outputs": [],
   "source": [
    "!top -n 1"
   ]
  },
  {
   "cell_type": "markdown",
   "metadata": {
    "collapsed": true
   },
   "source": [
    "## GPU"
   ]
  },
  {
   "cell_type": "code",
   "execution_count": null,
   "metadata": {},
   "outputs": [],
   "source": [
    "!nvidia-smi"
   ]
  }
 ],
 "metadata": {
  "kernelspec": {
   "display_name": "Python 2",
   "language": "python",
   "name": "python2"
  },
  "language_info": {
   "codemirror_mode": {
    "name": "ipython",
    "version": 2
   },
   "file_extension": ".py",
   "mimetype": "text/x-python",
   "name": "python",
   "nbconvert_exporter": "python",
   "pygments_lexer": "ipython2",
   "version": "2.7.12"
  },
  "toc": {
   "colors": {
    "hover_highlight": "#DAA520",
    "navigate_num": "#000000",
    "navigate_text": "#333333",
    "running_highlight": "#FF0000",
    "selected_highlight": "#FFD700",
    "sidebar_border": "#EEEEEE",
    "wrapper_background": "#FFFFFF"
   },
   "moveMenuLeft": true,
   "nav_menu": {
    "height": "105px",
    "width": "252px"
   },
   "navigate_menu": true,
   "number_sections": true,
   "sideBar": true,
   "threshold": 4,
   "toc_cell": false,
   "toc_position": {
    "height": "576px",
    "left": "0px",
    "right": "auto",
    "top": "107px",
    "width": "212px"
   },
   "toc_section_display": "block",
   "toc_window_display": false,
   "widenNotebook": false
  }
 },
 "nbformat": 4,
 "nbformat_minor": 2
}
