{
 "cells": [
  {
   "cell_type": "markdown",
   "metadata": {},
   "source": [
    "# Preprocess\n",
    "  The Go game dataset are usually stored in [SGF](http://www.red-bean.com/sgf/go.html) file format. We need to transform SGF file into Caffe2 Tensor which are 48 feature planes of 19x19 size, according to DeepMind.\n",
    "\n",
    "| Feature      | # of planes | Description\n",
    "|--------------|-------------|-------------------------\n",
    "| Stone colour | 3           | Player stone / opponent stone / empty\n",
    "| Ones         | 1           | A constant plane filled with 1\n",
    "| Turns since  | 8           | How many turns since a move was played\n",
    "| Liberties    | 8           | Number of liberties (empty adjacent points)\n",
    "| Capture size | 8           | How many opponent stones would be captured\n",
    "| Self-atari size | 8        | How many of own stones would be captured\n",
    "| Liberties after move | 8   | Number of liberties after this move is played\n",
    "| Ladder capture | 1         | Whether a move at this point is a successful ladder capture\n",
    "| Ladder escape | 1          | Whether a move at this point is a successful ladder escape\n",
    "| Sensibleness | 1           | Whether a move is legal and does not fill its own eyes\n",
    "| Zeros        | 1           | A constant plane filled with 0\n",
    "| Player color | 1           | Whether current player is black"
   ]
  },
  {
   "cell_type": "code",
   "execution_count": 4,
   "metadata": {
    "collapsed": true
   },
   "outputs": [],
   "source": [
    "from preprocessing import Preprocess\n",
    "from go import GameState, BLACK, WHITE, EMPTY\n",
    "import os, sgf\n",
    "import numpy as np\n",
    "\n",
    "# input SGF files\n",
    "FILE_FOLDER = os.path.join(os.path.expanduser('~'), 'python', 'tutorial_files','go')\n",
    "# output archive SGF files\n",
    "SUCCEED_FOLDER = os.path.join(os.path.expanduser('~'), 'python', 'tutorial_files','succeed')\n",
    "FAIL_FOLDER = os.path.join(os.path.expanduser('~'), 'python', 'tutorial_files','fail')\n",
    "# output database\n",
    "DATA_FOLDER = os.path.join(os.path.expanduser('~'), 'python', 'tutorial_data','go')\n",
    "TRAIN_DATA = os.path.join(DATA_FOLDER,'train_data')\n",
    "TEST_DATA = os.path.join(DATA_FOLDER,'test_data')\n",
    "\n",
    "# BOARD_POSITION contains SGF symbol which represents each row (or column) of the board\n",
    "# It can be used to convert between 0,1,2,3... and a,b,c,d...\n",
    "# Symbol [tt] or [] represents PASS in SGF, therefore is omitted\n",
    "BOARD_POSITION = 'abcdefghijklmnopqrs'\n",
    "\n",
    "DEFAULT_FEATURES = [\n",
    "    \"board\", \"ones\", \"turns_since\", \"liberties\", \"capture_size\",\n",
    "    \"self_atari_size\", \"liberties_after\", \"ladder_capture\", \"ladder_escape\",\n",
    "    \"sensibleness\", \"zeros\"]"
   ]
  },
  {
   "cell_type": "markdown",
   "metadata": {},
   "source": [
    "## Define DB output\n",
    "  [LevelDB](http://leveldb.org/) is preferred database because it automatically use [Snappy](https://github.com/google/snappy) to compress the data."
   ]
  },
  {
   "cell_type": "code",
   "execution_count": null,
   "metadata": {},
   "outputs": [],
   "source": [
    "from caffe2.python import core, utils\n",
    "from caffe2.proto import caffe2_pb2\n",
    "\n",
    "def write_db(db_type, db_name, base_name, features, labels):\n",
    "    db = core.C.create_db(db_type, db_name, core.C.Mode.write)\n",
    "    transaction = db.new_transaction()\n",
    "    for i in range(features.shape[0]):\n",
    "        feature_and_label = caffe2_pb2.TensorProtos()\n",
    "        feature_and_label.protos.extend([\n",
    "             utils.NumpyArrayToCaffe2Tensor(features[i]),\n",
    "             utils.NumpyArrayToCaffe2Tensor(labels[i])\n",
    "        ])\n",
    "        transaction.put(\n",
    "            '{}_{:0=3}'.format(base_name,i),\n",
    "            feature_and_label.SerializeToString())\n",
    "    # Close the transaction, and then close the db.\n",
    "    del transaction\n",
    "    del db"
   ]
  },
  {
   "cell_type": "markdown",
   "metadata": {},
   "source": [
    "## Parse SGF game file\n",
    "  Parse the SGF file. SGF file use characters a to s to represents line 1 to 19. We convert SGF to Caffe2 Tensor. And write back database in batch of game."
   ]
  },
  {
   "cell_type": "code",
   "execution_count": null,
   "metadata": {},
   "outputs": [],
   "source": [
    "#%%capture output\n",
    "p = Preprocess(DEFAULT_FEATURES)\n",
    "for dirname, subDirList, fileList in os.walk(FILE_FOLDER):\n",
    "    for filename in fileList:\n",
    "        with open(os.path.join(dirname, filename)) as f:\n",
    "            collection = sgf.parse(f.read())\n",
    "            for game in collection:\n",
    "                if game.nodes[0].properties['SZ'] == ['19']: # Size of the Board should only be 19x19\n",
    "                    state = GameState() # Initialize GameState\n",
    "                    features = np.empty(shape=(0,48,19,19), dtype=np.int8)\n",
    "                    labels = np.empty(shape=(0,1), dtype=np.uint16)\n",
    "                    try:\n",
    "                        for node in game.nodes[1:]: # Except nodes[0] for game properties\n",
    "                            features = np.append(features, p.state_to_tensor(state).astype(np.int8), axis=0)\n",
    "                            if 'B' in node.properties and len(node.properties['B'][0]) == 2: # Black move\n",
    "                                x = BOARD_POSITION.index(node.properties['B'][0][0])\n",
    "                                y = BOARD_POSITION.index(node.properties['B'][0][1])\n",
    "                                state.do_move(action=(x,y),color = BLACK)\n",
    "                            elif 'W' in node.properties and len(node.properties['W'][0]) == 2: # White move\n",
    "                                x = BOARD_POSITION.index(node.properties['W'][0][0])\n",
    "                                y = BOARD_POSITION.index(node.properties['W'][0][1])\n",
    "                                state.do_move(action=(x,y),color = WHITE)\n",
    "                            labels = np.append(labels, np.asarray([[x * 19 + y]], dtype=np.uint16), axis=0)\n",
    "                        write_db(\n",
    "                            db_type = 'leveldb',\n",
    "                            db_name = TRAIN_DATA, # replace this with TRAIN_DATA or TEST_DATA if you want to separate the dataset\n",
    "                            base_name = os.path.basename(filename),\n",
    "                            features = features,\n",
    "                            labels = labels\n",
    "                        )\n",
    "                        os.rename(f.name,os.path.join(SUCCEED_FOLDER,filename)) # move the file to SUCCEED_FOLDER, so Preprocess can resume after interrupted\n",
    "                        print('{} succeeded'.format(filename))\n",
    "                    except Exception as e:\n",
    "                        os.rename(f.name,os.path.join(FAIL_FOLDER,filename)) # move the file to FAIL_FOLDER, so Preprocess can resume after interrupted\n",
    "                        print('{} failed dues to {}'.format(filename, e))"
   ]
  },
  {
   "cell_type": "code",
   "execution_count": null,
   "metadata": {
    "collapsed": true
   },
   "outputs": [],
   "source": []
  }
 ],
 "metadata": {
  "kernelspec": {
   "display_name": "Python 2",
   "language": "python",
   "name": "python2"
  },
  "language_info": {
   "codemirror_mode": {
    "name": "ipython",
    "version": 2
   },
   "file_extension": ".py",
   "mimetype": "text/x-python",
   "name": "python",
   "nbconvert_exporter": "python",
   "pygments_lexer": "ipython2",
   "version": "2.7.12"
  },
  "toc": {
   "colors": {
    "hover_highlight": "#DAA520",
    "navigate_num": "#000000",
    "navigate_text": "#333333",
    "running_highlight": "#FF0000",
    "selected_highlight": "#FFD700",
    "sidebar_border": "#EEEEEE",
    "wrapper_background": "#FFFFFF"
   },
   "moveMenuLeft": true,
   "nav_menu": {
    "height": "30px",
    "width": "252px"
   },
   "navigate_menu": true,
   "number_sections": true,
   "sideBar": true,
   "threshold": 4,
   "toc_cell": false,
   "toc_section_display": "block",
   "toc_window_display": false,
   "widenNotebook": false
  }
 },
 "nbformat": 4,
 "nbformat_minor": 1
}
