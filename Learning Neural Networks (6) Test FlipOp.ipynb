{
 "cells": [
  {
   "cell_type": "code",
   "execution_count": 1,
   "metadata": {
    "collapsed": true
   },
   "outputs": [],
   "source": [
    "#!python -m caffe2.python.operator_test.flip_op_test"
   ]
  },
  {
   "cell_type": "code",
   "execution_count": 2,
   "metadata": {
    "scrolled": false
   },
   "outputs": [
    {
     "name": "stderr",
     "output_type": "stream",
     "text": [
      "WARNING:root:This caffe2 python run does not have GPU support. Will run in CPU only mode.\n",
      "WARNING:root:Debug message: No module named caffe2_pybind11_state_gpu\n"
     ]
    }
   ],
   "source": [
    "import numpy as np\n",
    "from caffe2.python import core, model_helper, workspace, utils\n",
    "from game import InitGame, AddGamePlay\n",
    "from modeling import AddConvModel\n",
    "mini_batch=3"
   ]
  },
  {
   "cell_type": "markdown",
   "metadata": {},
   "source": [
    "## Init first step"
   ]
  },
  {
   "cell_type": "code",
   "execution_count": 3,
   "metadata": {},
   "outputs": [
    {
     "name": "stderr",
     "output_type": "stream",
     "text": [
      "WARNING:root:You are creating an op that the ModelHelper does not recognize: PadImage.\n",
      "WARNING:root:You are creating an op that the ModelHelper does not recognize: PadImage.\n",
      "WARNING:root:You are creating an op that the ModelHelper does not recognize: PadImage.\n",
      "WARNING:root:You are creating an op that the ModelHelper does not recognize: PadImage.\n",
      "WARNING:root:You are creating an op that the ModelHelper does not recognize: PadImage.\n",
      "WARNING:root:You are creating an op that the ModelHelper does not recognize: PadImage.\n",
      "WARNING:root:You are creating an op that the ModelHelper does not recognize: PadImage.\n",
      "WARNING:root:You are creating an op that the ModelHelper does not recognize: PadImage.\n",
      "WARNING:root:You are creating an op that the ModelHelper does not recognize: PadImage.\n",
      "WARNING:root:You are creating an op that the ModelHelper does not recognize: PadImage.\n",
      "WARNING:root:You are creating an op that the ModelHelper does not recognize: PadImage.\n",
      "WARNING:root:You are creating an op that the ModelHelper does not recognize: PadImage.\n",
      "WARNING:root:You are creating an op that the ModelHelper does not recognize: GivenTensorIntFill.\n",
      "WARNING:root:You are creating an op that the ModelHelper does not recognize: TopK.\n",
      "WARNING:root:You are creating an op that the ModelHelper does not recognize: OneHot.\n",
      "WARNING:root:You are creating an op that the ModelHelper does not recognize: Reshape.\n",
      "WARNING:root:You are creating an op that the ModelHelper does not recognize: Split.\n",
      "WARNING:root:You are creating an op that the ModelHelper does not recognize: Sub.\n",
      "WARNING:root:You are creating an op that the ModelHelper does not recognize: Concat.\n"
     ]
    },
    {
     "name": "stdout",
     "output_type": "stream",
     "text": [
      "Traceback for operator 45 in network model\n",
      "game.py:69\n",
      "<ipython-input-3-7edcc3e76aa0>:14\n",
      "/usr/local/lib/python2.7/dist-packages/IPython/core/interactiveshell.py:2882\n",
      "/usr/local/lib/python2.7/dist-packages/IPython/core/interactiveshell.py:2822\n",
      "/usr/local/lib/python2.7/dist-packages/IPython/core/interactiveshell.py:2718\n",
      "/usr/local/lib/python2.7/dist-packages/ipykernel/zmqshell.py:533\n",
      "/usr/local/lib/python2.7/dist-packages/ipykernel/ipkernel.py:196\n",
      "/usr/local/lib/python2.7/dist-packages/ipykernel/kernelbase.py:399\n",
      "/usr/local/lib/python2.7/dist-packages/ipykernel/kernelbase.py:235\n",
      "/usr/local/lib/python2.7/dist-packages/ipykernel/kernelbase.py:283\n",
      "/usr/local/lib/python2.7/dist-packages/tornado/stack_context.py:277\n",
      "/usr/local/lib/python2.7/dist-packages/zmq/eventloop/zmqstream.py:414\n",
      "/usr/local/lib/python2.7/dist-packages/zmq/eventloop/zmqstream.py:472\n",
      "/usr/local/lib/python2.7/dist-packages/zmq/eventloop/zmqstream.py:440\n",
      "/usr/local/lib/python2.7/dist-packages/tornado/stack_context.py:277\n",
      "/usr/local/lib/python2.7/dist-packages/tornado/ioloop.py:888\n",
      "/usr/local/lib/python2.7/dist-packages/zmq/eventloop/ioloop.py:177\n",
      "/usr/local/lib/python2.7/dist-packages/ipykernel/kernelapp.py:477\n",
      "/usr/local/lib/python2.7/dist-packages/traitlets/config/application.py:658\n",
      "/usr/local/lib/python2.7/dist-packages/ipykernel_launcher.py:16\n",
      "/usr/lib/python2.7/runpy.py:72\n",
      "/usr/lib/python2.7/runpy.py:174\n"
     ]
    },
    {
     "ename": "RuntimeError",
     "evalue": "[enforce fail at concat_split_op.h:105] split_tensor.size() == OutputSize(). 12 vs 11 Error from operator: \ninput: \"data\" input: \"split_size\" output: \"layer0\" output: \"layer1\" output: \"layer2\" output: \"layer3\" output: \"layer4to9\" output: \"layer10\" output: \"layer11\" output: \"layer12to19\" output: \"layer20to35\" output: \"layer36to43\" output: \"layer44to47\" name: \"\" type: \"Split\" arg { name: \"axis\" i: 1 }",
     "output_type": "error",
     "traceback": [
      "\u001b[0;31m\u001b[0m",
      "\u001b[0;31mRuntimeError\u001b[0mTraceback (most recent call last)",
      "\u001b[0;32m<ipython-input-3-7edcc3e76aa0>\u001b[0m in \u001b[0;36m<module>\u001b[0;34m()\u001b[0m\n\u001b[1;32m     16\u001b[0m \u001b[0mworkspace\u001b[0m\u001b[0;34m.\u001b[0m\u001b[0mRunNetOnce\u001b[0m\u001b[0;34m(\u001b[0m\u001b[0mmodel\u001b[0m\u001b[0;34m.\u001b[0m\u001b[0mparam_init_net\u001b[0m\u001b[0;34m)\u001b[0m\u001b[0;34m\u001b[0m\u001b[0m\n\u001b[1;32m     17\u001b[0m \u001b[0mworkspace\u001b[0m\u001b[0;34m.\u001b[0m\u001b[0mCreateNet\u001b[0m\u001b[0;34m(\u001b[0m\u001b[0mmodel\u001b[0m\u001b[0;34m.\u001b[0m\u001b[0mnet\u001b[0m\u001b[0;34m,\u001b[0m \u001b[0moverwrite\u001b[0m\u001b[0;34m=\u001b[0m\u001b[0mTrue\u001b[0m\u001b[0;34m)\u001b[0m\u001b[0;34m\u001b[0m\u001b[0m\n\u001b[0;32m---> 18\u001b[0;31m \u001b[0mworkspace\u001b[0m\u001b[0;34m.\u001b[0m\u001b[0mRunNet\u001b[0m\u001b[0;34m(\u001b[0m\u001b[0mmodel\u001b[0m\u001b[0;34m.\u001b[0m\u001b[0mnet\u001b[0m\u001b[0;34m)\u001b[0m\u001b[0;34m\u001b[0m\u001b[0m\n\u001b[0m\u001b[1;32m     19\u001b[0m \u001b[0;34m\u001b[0m\u001b[0m\n\u001b[1;32m     20\u001b[0m \u001b[0minit_move\u001b[0m \u001b[0;34m=\u001b[0m \u001b[0mnp\u001b[0m\u001b[0;34m.\u001b[0m\u001b[0mreshape\u001b[0m\u001b[0;34m(\u001b[0m\u001b[0mworkspace\u001b[0m\u001b[0;34m.\u001b[0m\u001b[0mFetchBlob\u001b[0m\u001b[0;34m(\u001b[0m\u001b[0;34m'predict'\u001b[0m\u001b[0;34m)\u001b[0m\u001b[0;34m[\u001b[0m\u001b[0;36m0\u001b[0m\u001b[0;34m]\u001b[0m\u001b[0;34m,\u001b[0m \u001b[0;34m(\u001b[0m\u001b[0;34m-\u001b[0m\u001b[0;36m1\u001b[0m\u001b[0;34m)\u001b[0m\u001b[0;34m)\u001b[0m \u001b[0;31m# shape=(361,)\u001b[0m\u001b[0;34m\u001b[0m\u001b[0m\n",
      "\u001b[0;32m/usr/local/caffe2/python/workspace.py\u001b[0m in \u001b[0;36mRunNet\u001b[0;34m(name, num_iter, allow_fail)\u001b[0m\n\u001b[1;32m    199\u001b[0m         \u001b[0mC\u001b[0m\u001b[0;34m.\u001b[0m\u001b[0mWorkspace\u001b[0m\u001b[0;34m.\u001b[0m\u001b[0mcurrent\u001b[0m\u001b[0;34m.\u001b[0m\u001b[0m_last_failed_op_net_position\u001b[0m\u001b[0;34m,\u001b[0m\u001b[0;34m\u001b[0m\u001b[0m\n\u001b[1;32m    200\u001b[0m         \u001b[0mGetNetName\u001b[0m\u001b[0;34m(\u001b[0m\u001b[0mname\u001b[0m\u001b[0;34m)\u001b[0m\u001b[0;34m,\u001b[0m\u001b[0;34m\u001b[0m\u001b[0m\n\u001b[0;32m--> 201\u001b[0;31m         \u001b[0mStringifyNetName\u001b[0m\u001b[0;34m(\u001b[0m\u001b[0mname\u001b[0m\u001b[0;34m)\u001b[0m\u001b[0;34m,\u001b[0m \u001b[0mnum_iter\u001b[0m\u001b[0;34m,\u001b[0m \u001b[0mallow_fail\u001b[0m\u001b[0;34m,\u001b[0m\u001b[0;34m\u001b[0m\u001b[0m\n\u001b[0m\u001b[1;32m    202\u001b[0m     )\n\u001b[1;32m    203\u001b[0m \u001b[0;34m\u001b[0m\u001b[0m\n",
      "\u001b[0;32m/usr/local/caffe2/python/workspace.py\u001b[0m in \u001b[0;36mCallWithExceptionIntercept\u001b[0;34m(func, op_id_fetcher, net_name, *args, **kwargs)\u001b[0m\n\u001b[1;32m    164\u001b[0m \u001b[0;32mdef\u001b[0m \u001b[0mCallWithExceptionIntercept\u001b[0m\u001b[0;34m(\u001b[0m\u001b[0mfunc\u001b[0m\u001b[0;34m,\u001b[0m \u001b[0mop_id_fetcher\u001b[0m\u001b[0;34m,\u001b[0m \u001b[0mnet_name\u001b[0m\u001b[0;34m,\u001b[0m \u001b[0;34m*\u001b[0m\u001b[0margs\u001b[0m\u001b[0;34m,\u001b[0m \u001b[0;34m**\u001b[0m\u001b[0mkwargs\u001b[0m\u001b[0;34m)\u001b[0m\u001b[0;34m:\u001b[0m\u001b[0;34m\u001b[0m\u001b[0m\n\u001b[1;32m    165\u001b[0m     \u001b[0;32mtry\u001b[0m\u001b[0;34m:\u001b[0m\u001b[0;34m\u001b[0m\u001b[0m\n\u001b[0;32m--> 166\u001b[0;31m         \u001b[0;32mreturn\u001b[0m \u001b[0mfunc\u001b[0m\u001b[0;34m(\u001b[0m\u001b[0;34m*\u001b[0m\u001b[0margs\u001b[0m\u001b[0;34m,\u001b[0m \u001b[0;34m**\u001b[0m\u001b[0mkwargs\u001b[0m\u001b[0;34m)\u001b[0m\u001b[0;34m\u001b[0m\u001b[0m\n\u001b[0m\u001b[1;32m    167\u001b[0m     \u001b[0;32mexcept\u001b[0m \u001b[0mException\u001b[0m\u001b[0;34m:\u001b[0m\u001b[0;34m\u001b[0m\u001b[0m\n\u001b[1;32m    168\u001b[0m         \u001b[0mop_id\u001b[0m \u001b[0;34m=\u001b[0m \u001b[0mop_id_fetcher\u001b[0m\u001b[0;34m(\u001b[0m\u001b[0;34m)\u001b[0m\u001b[0;34m\u001b[0m\u001b[0m\n",
      "\u001b[0;31mRuntimeError\u001b[0m: [enforce fail at concat_split_op.h:105] split_tensor.size() == OutputSize(). 12 vs 11 Error from operator: \ninput: \"data\" input: \"split_size\" output: \"layer0\" output: \"layer1\" output: \"layer2\" output: \"layer3\" output: \"layer4to9\" output: \"layer10\" output: \"layer11\" output: \"layer12to19\" output: \"layer20to35\" output: \"layer36to43\" output: \"layer44to47\" name: \"\" type: \"Split\" arg { name: \"axis\" i: 1 }"
     ]
    }
   ],
   "source": [
    "ZERO = np.zeros((mini_batch,1,19,19), dtype=np.float32)\n",
    "ONE = np.ones((mini_batch,1,19,19), dtype=np.float32)\n",
    "init_data = np.concatenate((ZERO,ZERO,ONE,ZERO,\n",
    "                            ZERO,ZERO,ZERO,ZERO,ZERO,ZERO,ZERO,ZERO,\n",
    "                            ZERO,ZERO,ZERO,ZERO,ZERO,ZERO,ZERO,ZERO,\n",
    "                            ZERO,ZERO,ZERO,ZERO,ZERO,ZERO,ZERO,ZERO,\n",
    "                            ZERO,ZERO,ZERO,ZERO,ZERO,ZERO,ZERO,ZERO,\n",
    "                            ZERO,ZERO,ZERO,ZERO,ZERO,ZERO,ZERO,ZERO,\n",
    "                            ZERO,ZERO,ZERO,ZERO), axis=1)\n",
    "workspace.FeedBlob(\"data\", init_data)\n",
    "\n",
    "model = model_helper.ModelHelper(name=\"model\", arg_scope={\"order\": \"NCHW\"}, init_params=True)\n",
    "AddConvModel(model, \"data\", dim_in=48)\n",
    "AddGamePlay(model, \"data\", \"predict\")\n",
    "\n",
    "workspace.RunNetOnce(model.param_init_net)\n",
    "workspace.CreateNet(model.net, overwrite=True)\n",
    "workspace.RunNet(model.net)\n",
    "\n",
    "init_move = np.reshape(workspace.FetchBlob('predict')[0], (-1)) # shape=(361,)\n",
    "top_choice = np.argsort(-init_move)[0:mini_batch] # the top K step\n",
    "\n",
    "for i in range(mini_batch):\n",
    "    x = top_choice[i]/19\n",
    "    y = top_choice[i]%19\n",
    "    init_data[i,1,x,y] = 1 # opponent plus (x,y)\n",
    "    init_data[i,2,x,y] = 0 # empty minus (x,y)\n",
    "    init_data[i,4,x,y] = 1 # last 1 step plus (x,y)\n",
    "    init_data[i,12] = -1\n",
    "\n",
    "workspace.FeedBlob(\"data\", init_data)"
   ]
  },
  {
   "cell_type": "code",
   "execution_count": null,
   "metadata": {
    "collapsed": true
   },
   "outputs": [],
   "source": [
    "for i in range(20):\n",
    "    workspace.RunNet(model.net)"
   ]
  },
  {
   "cell_type": "code",
   "execution_count": null,
   "metadata": {
    "collapsed": true
   },
   "outputs": [],
   "source": [
    "data=workspace.FetchBlob(\"data\")"
   ]
  },
  {
   "cell_type": "code",
   "execution_count": null,
   "metadata": {
    "scrolled": false
   },
   "outputs": [],
   "source": [
    "data[0,11]"
   ]
  },
  {
   "cell_type": "code",
   "execution_count": null,
   "metadata": {
    "collapsed": true
   },
   "outputs": [],
   "source": []
  }
 ],
 "metadata": {
  "kernelspec": {
   "display_name": "Python 2",
   "language": "python",
   "name": "python2"
  },
  "language_info": {
   "codemirror_mode": {
    "name": "ipython",
    "version": 2
   },
   "file_extension": ".py",
   "mimetype": "text/x-python",
   "name": "python",
   "nbconvert_exporter": "python",
   "pygments_lexer": "ipython2",
   "version": "2.7.12"
  },
  "toc": {
   "colors": {
    "hover_highlight": "#DAA520",
    "navigate_num": "#000000",
    "navigate_text": "#333333",
    "running_highlight": "#FF0000",
    "selected_highlight": "#FFD700",
    "sidebar_border": "#EEEEEE",
    "wrapper_background": "#FFFFFF"
   },
   "moveMenuLeft": true,
   "nav_menu": {
    "height": "49px",
    "width": "252px"
   },
   "navigate_menu": true,
   "number_sections": true,
   "sideBar": true,
   "threshold": 4,
   "toc_cell": false,
   "toc_section_display": "block",
   "toc_window_display": false,
   "widenNotebook": false
  }
 },
 "nbformat": 4,
 "nbformat_minor": 1
}
